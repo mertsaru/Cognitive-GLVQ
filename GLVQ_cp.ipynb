{
 "cells": [
  {
   "cell_type": "code",
   "execution_count": 3,
   "metadata": {},
   "outputs": [
    {
     "name": "stdout",
     "output_type": "stream",
     "text": [
      "{0: {'a': 0, 'b': 0, 'c': 0, 'd': 0}, 1: {'a': 0, 'b': 0, 'c': 0, 'd': 0}, '1': {'a': 0, 'b': 0, 'c': 0, 'd': 0}}\n"
     ]
    }
   ],
   "source": [
    "from cognitive_GLVQ import GLVQ_c\n",
    "\n",
    "class GLVQ_cp(GLVQ_c):\n",
    "\n",
    "    def update_lr(self, values):\n",
    "        \"\"\"Update the learning rate of the prototype\"\"\"\n",
    "        R = values[\"a\"]/ (values[\"a\"] + values[\"b\"])\n",
    "        values.update({\"lr\": 1 - R})\n"
   ]
  }
 ],
 "metadata": {
  "kernelspec": {
   "display_name": "base",
   "language": "python",
   "name": "python3"
  },
  "language_info": {
   "codemirror_mode": {
    "name": "ipython",
    "version": 3
   },
   "file_extension": ".py",
   "mimetype": "text/x-python",
   "name": "python",
   "nbconvert_exporter": "python",
   "pygments_lexer": "ipython3",
   "version": "3.10.9"
  },
  "orig_nbformat": 4
 },
 "nbformat": 4,
 "nbformat_minor": 2
}
